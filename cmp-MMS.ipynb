{
 "cells": [
  {
   "cell_type": "code",
   "execution_count": 1,
   "metadata": {},
   "outputs": [],
   "source": [
    "import pandas as pd\n",
    "import numpy as np\n",
    "import pickle\n",
    "\n",
    "from sklearn.metrics import average_precision_score\n",
    "from sklearn.neighbors import LocalOutlierFactor\n",
    "from sklearn.svm import OneClassSVM"
   ]
  },
  {
   "cell_type": "code",
   "execution_count": 2,
   "metadata": {},
   "outputs": [
    {
     "name": "stderr",
     "output_type": "stream",
     "text": [
      "/opt/anaconda/lib/python3.7/site-packages/pandas/core/generic.py:3889: PerformanceWarning: dropping on a non-lexsorted multi-index without a level parameter may impact performance.\n",
      "  obj = obj._drop_axis(labels, axis, level=level, errors=errors)\n"
     ]
    }
   ],
   "source": [
    "DATASET = \"DatasetUpdate/MMS (1).csv\"\n",
    "TOPOLOGY = \"DatasetUpdate/MMS_topology.pk\"\n",
    "\n",
    "data = pd.read_csv(DATASET, header=[0,1])\n",
    "\n",
    "labels = data['label']\n",
    "metric = data.drop(['TimeStamp', 'label'], axis = 1)\n",
    "metric.columns.names = ['pod','metric']\n",
    "tempm = metric.swaplevel('metric','pod',axis=1).stack()\n",
    "\n",
    "tempm = (tempm-tempm.mean())/(tempm.std())\n",
    "metric = tempm.unstack().swaplevel('metric','pod',axis=1).stack().unstack()\n",
    "\n",
    "with open(TOPOLOGY, 'rb') as f:\n",
    "    edge_index = pickle.load(f)"
   ]
  },
  {
   "cell_type": "markdown",
   "metadata": {},
   "source": [
    "# 填充缺失值"
   ]
  },
  {
   "cell_type": "code",
   "execution_count": 3,
   "metadata": {},
   "outputs": [],
   "source": [
    "metric.interpolate(inplace=True)\n",
    "metric.bfill(inplace=True)"
   ]
  },
  {
   "cell_type": "markdown",
   "metadata": {},
   "source": [
    "# 划分数据集合"
   ]
  },
  {
   "cell_type": "code",
   "execution_count": 4,
   "metadata": {},
   "outputs": [],
   "source": [
    "data_scaled = metric.values\n",
    "\n",
    "def train_test_split(data,labels, train_portion):\n",
    "    time_len = data.shape[0]\n",
    "    train_size = int(time_len * train_portion)\n",
    "    train_data = np.array(data[:train_size,...])\n",
    "    test_data = np.array(data[train_size:,...])\n",
    "    \n",
    "    train_y = np.array(labels[:train_size])\n",
    "    test_y = np.array(labels[train_size:])\n",
    "    return train_data, test_data, train_y, test_y\n",
    "\n",
    "train_rate = 0.67\n",
    "train_data, test_data, train_y, test_y = train_test_split(data_scaled,labels,train_rate)"
   ]
  },
  {
   "cell_type": "markdown",
   "metadata": {},
   "source": [
    "# 对比实验： LOF"
   ]
  },
  {
   "cell_type": "code",
   "execution_count": 5,
   "metadata": {},
   "outputs": [
    {
     "name": "stdout",
     "output_type": "stream",
     "text": [
      "LOF的AP得分为: 0.4367750588451614\n"
     ]
    }
   ],
   "source": [
    "clf = LocalOutlierFactor(novelty=True)\n",
    "clf.fit(train_data)\n",
    "pred = - clf.score_samples(test_data)\n",
    "labels = test_y.flatten()\n",
    "ap = average_precision_score(labels,pred)\n",
    "print(\"LOF的AP得分为:\",ap)"
   ]
  },
  {
   "cell_type": "markdown",
   "metadata": {},
   "source": [
    "# 对比实验： OCSVM"
   ]
  },
  {
   "cell_type": "code",
   "execution_count": 6,
   "metadata": {},
   "outputs": [
    {
     "name": "stdout",
     "output_type": "stream",
     "text": [
      "SVM的AP得分为: 0.18937963664738064\n"
     ]
    }
   ],
   "source": [
    "clf = OneClassSVM()\n",
    "clf.fit(train_data)\n",
    "pred = - clf.score_samples(test_data)\n",
    "labels = test_y.flatten()\n",
    "ap = average_precision_score(labels,pred)\n",
    "print(\"SVM的AP得分为:\",ap)"
   ]
  }
 ],
 "metadata": {
  "kernelspec": {
   "display_name": "Python 3",
   "language": "python",
   "name": "python3"
  },
  "language_info": {
   "codemirror_mode": {
    "name": "ipython",
    "version": 3
   },
   "file_extension": ".py",
   "mimetype": "text/x-python",
   "name": "python",
   "nbconvert_exporter": "python",
   "pygments_lexer": "ipython3",
   "version": "3.7.6"
  }
 },
 "nbformat": 4,
 "nbformat_minor": 4
}
